{
 "cells": [
  {
   "cell_type": "code",
   "execution_count": 1,
   "metadata": {},
   "outputs": [],
   "source": [
    "from qiskit import QuantumCircuit, Aer, execute\n",
    "from math import pi\n",
    "import numpy as np\n",
    "from qiskit.visualization import plot_bloch_multivector, plot_histogram"
   ]
  },
  {
   "cell_type": "code",
   "execution_count": 2,
   "metadata": {},
   "outputs": [],
   "source": [
    "from math import sqrt"
   ]
  },
  {
   "cell_type": "code",
   "execution_count": 4,
   "metadata": {},
   "outputs": [],
   "source": [
    "%matplotlib inline"
   ]
  },
  {
   "cell_type": "code",
   "execution_count": 35,
   "metadata": {},
   "outputs": [
    {
     "data": {
      "text/html": [
       "<pre style=\"word-wrap: normal;white-space: pre;background: #fff0;line-height: 1.1;font-family: &quot;Courier New&quot;,Courier,monospace\">     \n",
       "q_0: \n",
       "     \n",
       "q_1: \n",
       "     \n",
       "q_2: \n",
       "     \n",
       "c: 3/\n",
       "     </pre>"
      ],
      "text/plain": [
       "     \n",
       "q_0: \n",
       "     \n",
       "q_1: \n",
       "     \n",
       "q_2: \n",
       "     \n",
       "c: 3/\n",
       "     "
      ]
     },
     "execution_count": 35,
     "metadata": {},
     "output_type": "execute_result"
    }
   ],
   "source": [
    "#Qiskit Teleportation Circuit\n",
    "\n",
    "circuit = QuantumCircuit (3,3) #Creating a quantum circuit using 3 classical and 3 quantum bits\n",
    "circuit.draw()"
   ]
  },
  {
   "cell_type": "code",
   "execution_count": 36,
   "metadata": {},
   "outputs": [
    {
     "data": {
      "text/plain": [
       "<qiskit.circuit.instructionset.InstructionSet at 0x1de6f238>"
      ]
     },
     "execution_count": 36,
     "metadata": {},
     "output_type": "execute_result"
    }
   ],
   "source": [
    "circuit.x(0)\n",
    "circuit.barrier()\n",
    "\n",
    "circuit.h(1)\n",
    "circuit.cx(1,2)"
   ]
  },
  {
   "cell_type": "code",
   "execution_count": 41,
   "metadata": {},
   "outputs": [
    {
     "data": {
      "text/html": [
       "<pre style=\"word-wrap: normal;white-space: pre;background: #fff0;line-height: 1.1;font-family: &quot;Courier New&quot;,Courier,monospace\">     ┌───┐ ░                ┌───┐┌─┐             ┌───┐┌─┐\n",
       "q_0: ┤ X ├─░─────────────■──┤ H ├┤M├──────■───■──┤ H ├┤M├\n",
       "     └───┘ ░ ┌───┐     ┌─┴─┐└┬─┬┘└╥┘      │ ┌─┴─┐└┬─┬┘└╥┘\n",
       "q_1: ──────░─┤ H ├──■──┤ X ├─┤M├──╫───■───┼─┤ X ├─┤M├──╫─\n",
       "           ░ └───┘┌─┴─┐└───┘ └╥┘  ║ ┌─┴─┐ │ └┬─┬┘ └╥┘  ║ \n",
       "q_2: ──────░──────┤ X ├───────╫───╫─┤ X ├─■──┤M├───╫───╫─\n",
       "           ░      └───┘       ║   ║ └───┘    └╥┘   ║   ║ \n",
       "c: 3/═════════════════════════╩═══╩═══════════╩════╩═══╩═\n",
       "                              1   0           2    1   0 </pre>"
      ],
      "text/plain": [
       "     ┌───┐ ░                ┌───┐┌─┐             ┌───┐┌─┐\n",
       "q_0: ┤ X ├─░─────────────■──┤ H ├┤M├──────■───■──┤ H ├┤M├\n",
       "     └───┘ ░ ┌───┐     ┌─┴─┐└┬─┬┘└╥┘      │ ┌─┴─┐└┬─┬┘└╥┘\n",
       "q_1: ──────░─┤ H ├──■──┤ X ├─┤M├──╫───■───┼─┤ X ├─┤M├──╫─\n",
       "           ░ └───┘┌─┴─┐└───┘ └╥┘  ║ ┌─┴─┐ │ └┬─┬┘ └╥┘  ║ \n",
       "q_2: ──────░──────┤ X ├───────╫───╫─┤ X ├─■──┤M├───╫───╫─\n",
       "           ░      └───┘       ║   ║ └───┘    └╥┘   ║   ║ \n",
       "c: 3/═════════════════════════╩═══╩═══════════╩════╩═══╩═\n",
       "                              1   0           2    1   0 "
      ]
     },
     "execution_count": 41,
     "metadata": {},
     "output_type": "execute_result"
    }
   ],
   "source": [
    "circuit.cx(0,1)\n",
    "circuit.h(0)\n",
    "\n",
    "#measurements\n",
    "\n",
    "circuit.measure([0,1],[0,1])\n",
    "circuit.draw()"
   ]
  },
  {
   "cell_type": "code",
   "execution_count": 38,
   "metadata": {},
   "outputs": [
    {
     "data": {
      "text/plain": [
       "<qiskit.circuit.instructionset.InstructionSet at 0x1df46f88>"
      ]
     },
     "execution_count": 38,
     "metadata": {},
     "output_type": "execute_result"
    }
   ],
   "source": [
    "circuit.cx(1,2)\n",
    "circuit.cz(0,2)\n",
    "circuit.measure(2,2)"
   ]
  },
  {
   "cell_type": "code",
   "execution_count": 39,
   "metadata": {},
   "outputs": [
    {
     "name": "stdout",
     "output_type": "stream",
     "text": [
      "{'100': 243, '101': 265, '110': 239, '111': 277}\n"
     ]
    }
   ],
   "source": [
    "backend= Aer.get_backend(\"qasm_simulator\")\n",
    "counts= execute(circuit,backend,shots=1024).result().get_counts()\n",
    "print(counts)"
   ]
  },
  {
   "cell_type": "code",
   "execution_count": 40,
   "metadata": {},
   "outputs": [
    {
     "data": {
      "image/png": "[encoded data removed]",
      "text/plain": [
       "<Figure size 504x360 with 1 Axes>"
      ]
     },
     "execution_count": 40,
     "metadata": {},
     "output_type": "execute_result"
    }
   ],
   "source": [
    "plot_histogram(counts)"
   ]
  },
  {
   "cell_type": "raw",
   "metadata": {},
   "source": [
    "Building my own teleportation circuit to measure the |+> state "
   ]
  },
  {
   "cell_type": "code",
   "execution_count": 42,
   "metadata": {},
   "outputs": [],
   "source": [
    "from qiskit import QuantumCircuit, Aer, execute\n",
    "from math import pi\n",
    "import numpy as np\n",
    "from qiskit.visualization import plot_bloch_multivector, plot_histogram"
   ]
  },
  {
   "cell_type": "code",
   "execution_count": 44,
   "metadata": {},
   "outputs": [
    {
     "data": {
      "text/plain": [
       "<qiskit.circuit.instructionset.InstructionSet at 0x4b61598>"
      ]
     },
     "execution_count": 44,
     "metadata": {},
     "output_type": "execute_result"
    }
   ],
   "source": [
    "qc = QuantumCircuit(3,3)\n",
    "qc.h(0) #Converting q0 State from |0> to |+>"
   ]
  },
  {
   "cell_type": "code",
   "execution_count": 45,
   "metadata": {},
   "outputs": [
    {
     "data": {
      "text/plain": [
       "<qiskit.circuit.instructionset.InstructionSet at 0x1dadd298>"
      ]
     },
     "execution_count": 45,
     "metadata": {},
     "output_type": "execute_result"
    }
   ],
   "source": [
    "#Converting q1 and q2 in entaglement state\n",
    "qc.h(1)\n",
    "qc.cx(1,2)"
   ]
  },
  {
   "cell_type": "code",
   "execution_count": 47,
   "metadata": {},
   "outputs": [
    {
     "data": {
      "text/plain": [
       "<qiskit.circuit.instructionset.InstructionSet at 0x1dafb3e8>"
      ]
     },
     "execution_count": 47,
     "metadata": {},
     "output_type": "execute_result"
    }
   ],
   "source": [
    "qc.cx(0,1)\n",
    "qc.h(0) #check for x\n"
   ]
  },
  {
   "cell_type": "markdown",
   "metadata": {},
   "source": []
  },
  {
   "cell_type": "code",
   "execution_count": 48,
   "metadata": {},
   "outputs": [
    {
     "data": {
      "text/html": [
       "<pre style=\"word-wrap: normal;white-space: pre;background: #fff0;line-height: 1.1;font-family: &quot;Courier New&quot;,Courier,monospace\">     ┌───┐          ┌───┐     ┌───┐┌─┐        \n",
       "q_0: ┤ H ├───────■──┤ H ├──■──┤ H ├┤M├──────■─\n",
       "     ├───┤     ┌─┴─┐└───┘┌─┴─┐└┬─┬┘└╥┘      │ \n",
       "q_1: ┤ H ├──■──┤ X ├─────┤ X ├─┤M├──╫───■───┼─\n",
       "     └───┘┌─┴─┐└───┘     └───┘ └╥┘  ║ ┌─┴─┐ │ \n",
       "q_2: ─────┤ X ├─────────────────╫───╫─┤ X ├─■─\n",
       "          └───┘                 ║   ║ └───┘   \n",
       "c: 3/═══════════════════════════╩═══╩═════════\n",
       "                                1   0         </pre>"
      ],
      "text/plain": [
       "     ┌───┐          ┌───┐     ┌───┐┌─┐        \n",
       "q_0: ┤ H ├───────■──┤ H ├──■──┤ H ├┤M├──────■─\n",
       "     ├───┤     ┌─┴─┐└───┘┌─┴─┐└┬─┬┘└╥┘      │ \n",
       "q_1: ┤ H ├──■──┤ X ├─────┤ X ├─┤M├──╫───■───┼─\n",
       "     └───┘┌─┴─┐└───┘     └───┘ └╥┘  ║ ┌─┴─┐ │ \n",
       "q_2: ─────┤ X ├─────────────────╫───╫─┤ X ├─■─\n",
       "          └───┘                 ║   ║ └───┘   \n",
       "c: 3/═══════════════════════════╩═══╩═════════\n",
       "                                1   0         "
      ]
     },
     "execution_count": 48,
     "metadata": {},
     "output_type": "execute_result"
    }
   ],
   "source": [
    "#measurements\n",
    "qc.measure([0,1],[0,1])\n",
    "qc.cx(1,2)\n",
    "qc.cz(0,2)\n",
    "qc.measure(2,2)\n",
    "qc.draw()"
   ]
  },
  {
   "cell_type": "code",
   "execution_count": 50,
   "metadata": {},
   "outputs": [
    {
     "data": {
      "image/png": "[encoded data removed]",
      "text/plain": [
       "<Figure size 504x360 with 1 Axes>"
      ]
     },
     "execution_count": 50,
     "metadata": {},
     "output_type": "execute_result"
    }
   ],
   "source": [
    "#Checking if circuit works\n",
    "\n",
    "backend= Aer.get_backend(\"qasm_simulator\")\n",
    "counts= execute(qc,backend, shots= 1024).result().get_counts()\n",
    "\n",
    "plot_histogram(counts)"
   ]
  },
  {
   "cell_type": "markdown",
   "metadata": {},
   "source": [
    "# Note that in our result, 50% of the times c_2 measures as 0 and other 50% it measures as 1 - just like the |+> state should."
   ]
  },
  {
   "cell_type": "code",
   "execution_count": null,
   "metadata": {},
   "outputs": [],
   "source": []
  }
 ],
 "metadata": {
  "kernelspec": {
   "display_name": "Python 3",
   "language": "python",
   "name": "python3"
  },
  "language_info": {
   "codemirror_mode": {
    "name": "ipython",
    "version": 3
   },
   "file_extension": ".py",
   "mimetype": "text/x-python",
   "name": "python",
   "nbconvert_exporter": "python",
   "pygments_lexer": "ipython3",
   "version": "3.8.5"
  }
 },
 "nbformat": 4,
 "nbformat_minor": 4
}
