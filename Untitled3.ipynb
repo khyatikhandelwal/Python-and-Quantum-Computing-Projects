{
 "cells": [
  {
   "cell_type": "code",
   "execution_count": 1,
   "metadata": {},
   "outputs": [],
   "source": [
    "import pandas as pd"
   ]
  },
  {
   "cell_type": "code",
   "execution_count": 3,
   "metadata": {},
   "outputs": [],
   "source": [
    "import numpy as np\n"
   ]
  },
  {
   "cell_type": "code",
   "execution_count": 5,
   "metadata": {},
   "outputs": [
    {
     "name": "stdout",
     "output_type": "stream",
     "text": [
      "Collecting Keras\n",
      "  Downloading Keras-2.4.3-py2.py3-none-any.whl (36 kB)\n",
      "Requirement already satisfied: numpy>=1.9.1 in c:\\programdata\\anaconda3\\lib\\site-packages (from Keras) (1.19.2)\n",
      "Requirement already satisfied: h5py in c:\\programdata\\anaconda3\\lib\\site-packages (from Keras) (2.10.0)\n",
      "Requirement already satisfied: scipy>=0.14 in c:\\programdata\\anaconda3\\lib\\site-packages (from Keras) (1.5.2)\n",
      "Requirement already satisfied: pyyaml in c:\\programdata\\anaconda3\\lib\\site-packages (from Keras) (5.3.1)\n",
      "Requirement already satisfied: six in c:\\programdata\\anaconda3\\lib\\site-packages (from h5py->Keras) (1.15.0)\n",
      "Installing collected packages: Keras\n",
      "Successfully installed Keras-2.4.3\n",
      "Note: you may need to restart the kernel to use updated packages.\n"
     ]
    }
   ],
   "source": [
    "pip install Keras"
   ]
  },
  {
   "cell_type": "code",
   "execution_count": 7,
   "metadata": {},
   "outputs": [
    {
     "name": "stdout",
     "output_type": "stream",
     "text": [
      "Requirement already satisfied: pip in c:\\programdata\\anaconda3\\lib\\site-packages (20.3.1)\n",
      "Note: you may need to restart the kernel to use updated packages.\n"
     ]
    }
   ],
   "source": [
    "pip install --upgrade pip"
   ]
  },
  {
   "cell_type": "code",
   "execution_count": 11,
   "metadata": {},
   "outputs": [
    {
     "name": "stdout",
     "output_type": "stream",
     "text": [
      "Collecting pandas-datareader\n",
      "  Downloading pandas_datareader-0.9.0-py3-none-any.whl (107 kB)\n",
      "Requirement already satisfied: lxml in c:\\programdata\\anaconda3\\lib\\site-packages (from pandas-datareader) (4.6.1)\n",
      "Requirement already satisfied: pandas>=0.23 in c:\\programdata\\anaconda3\\lib\\site-packages (from pandas-datareader) (1.1.3)\n",
      "Requirement already satisfied: requests>=2.19.0 in c:\\programdata\\anaconda3\\lib\\site-packages (from pandas-datareader) (2.24.0)\n",
      "Requirement already satisfied: numpy>=1.15.4 in c:\\programdata\\anaconda3\\lib\\site-packages (from pandas>=0.23->pandas-datareader) (1.19.2)\n",
      "Requirement already satisfied: python-dateutil>=2.7.3 in c:\\programdata\\anaconda3\\lib\\site-packages (from pandas>=0.23->pandas-datareader) (2.8.1)\n",
      "Requirement already satisfied: pytz>=2017.2 in c:\\programdata\\anaconda3\\lib\\site-packages (from pandas>=0.23->pandas-datareader) (2020.1)\n",
      "Requirement already satisfied: six>=1.5 in c:\\programdata\\anaconda3\\lib\\site-packages (from python-dateutil>=2.7.3->pandas>=0.23->pandas-datareader) (1.15.0)\n",
      "Requirement already satisfied: chardet<4,>=3.0.2 in c:\\programdata\\anaconda3\\lib\\site-packages (from requests>=2.19.0->pandas-datareader) (3.0.4)\n",
      "Requirement already satisfied: urllib3!=1.25.0,!=1.25.1,<1.26,>=1.21.1 in c:\\programdata\\anaconda3\\lib\\site-packages (from requests>=2.19.0->pandas-datareader) (1.25.11)\n",
      "Requirement already satisfied: certifi>=2017.4.17 in c:\\programdata\\anaconda3\\lib\\site-packages (from requests>=2.19.0->pandas-datareader) (2020.6.20)\n",
      "Requirement already satisfied: idna<3,>=2.5 in c:\\programdata\\anaconda3\\lib\\site-packages (from requests>=2.19.0->pandas-datareader) (2.10)\n",
      "Installing collected packages: pandas-datareader\n",
      "Successfully installed pandas-datareader-0.9.0\n",
      "Note: you may need to restart the kernel to use updated packages.\n"
     ]
    }
   ],
   "source": [
    "pip install pandas-datareader"
   ]
  },
  {
   "cell_type": "code",
   "execution_count": 13,
   "metadata": {},
   "outputs": [],
   "source": [
    "import pandas_datareader as pdr\n",
    "\n"
   ]
  },
  {
   "cell_type": "code",
   "execution_count": 18,
   "metadata": {},
   "outputs": [],
   "source": [
    "#Collect Apple's Stock Data\n",
    "key='09dfd36db82b8087f3b269cbb1882a9cf5b3c947'\n",
    "\n",
    "\n",
    "data_frame= pdr.get_data_tiingo(\"AAPL\",api_key=key)\n"
   ]
  },
  {
   "cell_type": "code",
   "execution_count": 20,
   "metadata": {},
   "outputs": [],
   "source": [
    "data_frame.to_csv(\"AAPL.csv\")"
   ]
  },
  {
   "cell_type": "code",
   "execution_count": 21,
   "metadata": {},
   "outputs": [],
   "source": [
    "data_frame_2=data_frame.reset_index()[\"close\"]"
   ]
  },
  {
   "cell_type": "code",
   "execution_count": 22,
   "metadata": {},
   "outputs": [
    {
     "data": {
      "text/plain": [
       "1228    116.60\n",
       "1229    111.20\n",
       "1230    115.32\n",
       "1231    108.86\n",
       "1232    108.77\n",
       "1233    110.44\n",
       "1234    114.95\n",
       "1235    119.03\n",
       "1236    118.69\n",
       "1237    116.32\n",
       "1238    115.97\n",
       "1239    119.49\n",
       "1240    119.21\n",
       "1241    119.26\n",
       "1242    120.30\n",
       "1243    119.39\n",
       "1244    118.03\n",
       "1245    118.64\n",
       "1246    117.34\n",
       "1247    113.85\n",
       "1248    115.17\n",
       "1249    116.03\n",
       "1250    116.59\n",
       "1251    119.05\n",
       "1252    122.72\n",
       "1253    123.08\n",
       "1254    122.94\n",
       "1255    122.25\n",
       "Name: close, dtype: float64"
      ]
     },
     "execution_count": 22,
     "metadata": {},
     "output_type": "execute_result"
    }
   ],
   "source": [
    "data_frame_2[1228:]"
   ]
  },
  {
   "cell_type": "code",
   "execution_count": 23,
   "metadata": {},
   "outputs": [
    {
     "data": {
      "text/html": [
       "<div>\n",
       "<style scoped>\n",
       "    .dataframe tbody tr th:only-of-type {\n",
       "        vertical-align: middle;\n",
       "    }\n",
       "\n",
       "    .dataframe tbody tr th {\n",
       "        vertical-align: top;\n",
       "    }\n",
       "\n",
       "    .dataframe thead th {\n",
       "        text-align: right;\n",
       "    }\n",
       "</style>\n",
       "<table border=\"1\" class=\"dataframe\">\n",
       "  <thead>\n",
       "    <tr style=\"text-align: right;\">\n",
       "      <th></th>\n",
       "      <th></th>\n",
       "      <th>close</th>\n",
       "      <th>high</th>\n",
       "      <th>low</th>\n",
       "      <th>open</th>\n",
       "      <th>volume</th>\n",
       "      <th>adjClose</th>\n",
       "      <th>adjHigh</th>\n",
       "      <th>adjLow</th>\n",
       "      <th>adjOpen</th>\n",
       "      <th>adjVolume</th>\n",
       "      <th>divCash</th>\n",
       "      <th>splitFactor</th>\n",
       "    </tr>\n",
       "    <tr>\n",
       "      <th>symbol</th>\n",
       "      <th>date</th>\n",
       "      <th></th>\n",
       "      <th></th>\n",
       "      <th></th>\n",
       "      <th></th>\n",
       "      <th></th>\n",
       "      <th></th>\n",
       "      <th></th>\n",
       "      <th></th>\n",
       "      <th></th>\n",
       "      <th></th>\n",
       "      <th></th>\n",
       "      <th></th>\n",
       "    </tr>\n",
       "  </thead>\n",
       "  <tbody>\n",
       "    <tr>\n",
       "      <th rowspan=\"5\" valign=\"top\">AAPL</th>\n",
       "      <th>2015-12-10 00:00:00+00:00</th>\n",
       "      <td>116.17</td>\n",
       "      <td>116.94</td>\n",
       "      <td>115.510</td>\n",
       "      <td>116.04</td>\n",
       "      <td>29212727</td>\n",
       "      <td>26.903646</td>\n",
       "      <td>27.081969</td>\n",
       "      <td>26.750797</td>\n",
       "      <td>26.873539</td>\n",
       "      <td>116850908</td>\n",
       "      <td>0.0</td>\n",
       "      <td>1.0</td>\n",
       "    </tr>\n",
       "    <tr>\n",
       "      <th>2015-12-11 00:00:00+00:00</th>\n",
       "      <td>113.18</td>\n",
       "      <td>115.39</td>\n",
       "      <td>112.851</td>\n",
       "      <td>115.19</td>\n",
       "      <td>46886161</td>\n",
       "      <td>26.211196</td>\n",
       "      <td>26.723006</td>\n",
       "      <td>26.135003</td>\n",
       "      <td>26.676689</td>\n",
       "      <td>187544644</td>\n",
       "      <td>0.0</td>\n",
       "      <td>1.0</td>\n",
       "    </tr>\n",
       "    <tr>\n",
       "      <th>2015-12-14 00:00:00+00:00</th>\n",
       "      <td>112.48</td>\n",
       "      <td>112.68</td>\n",
       "      <td>109.790</td>\n",
       "      <td>112.18</td>\n",
       "      <td>65003609</td>\n",
       "      <td>26.049084</td>\n",
       "      <td>26.095401</td>\n",
       "      <td>25.426110</td>\n",
       "      <td>25.979607</td>\n",
       "      <td>260014436</td>\n",
       "      <td>0.0</td>\n",
       "      <td>1.0</td>\n",
       "    </tr>\n",
       "    <tr>\n",
       "      <th>2015-12-15 00:00:00+00:00</th>\n",
       "      <td>110.49</td>\n",
       "      <td>112.80</td>\n",
       "      <td>110.350</td>\n",
       "      <td>111.94</td>\n",
       "      <td>53323105</td>\n",
       "      <td>25.588222</td>\n",
       "      <td>26.123192</td>\n",
       "      <td>25.555800</td>\n",
       "      <td>25.924026</td>\n",
       "      <td>213292420</td>\n",
       "      <td>0.0</td>\n",
       "      <td>1.0</td>\n",
       "    </tr>\n",
       "    <tr>\n",
       "      <th>2015-12-16 00:00:00+00:00</th>\n",
       "      <td>111.34</td>\n",
       "      <td>111.99</td>\n",
       "      <td>108.800</td>\n",
       "      <td>111.07</td>\n",
       "      <td>56238467</td>\n",
       "      <td>25.785073</td>\n",
       "      <td>25.935605</td>\n",
       "      <td>25.196838</td>\n",
       "      <td>25.722544</td>\n",
       "      <td>224953868</td>\n",
       "      <td>0.0</td>\n",
       "      <td>1.0</td>\n",
       "    </tr>\n",
       "  </tbody>\n",
       "</table>\n",
       "</div>"
      ],
      "text/plain": [
       "                                   close    high      low    open    volume  \\\n",
       "symbol date                                                                   \n",
       "AAPL   2015-12-10 00:00:00+00:00  116.17  116.94  115.510  116.04  29212727   \n",
       "       2015-12-11 00:00:00+00:00  113.18  115.39  112.851  115.19  46886161   \n",
       "       2015-12-14 00:00:00+00:00  112.48  112.68  109.790  112.18  65003609   \n",
       "       2015-12-15 00:00:00+00:00  110.49  112.80  110.350  111.94  53323105   \n",
       "       2015-12-16 00:00:00+00:00  111.34  111.99  108.800  111.07  56238467   \n",
       "\n",
       "                                   adjClose    adjHigh     adjLow    adjOpen  \\\n",
       "symbol date                                                                    \n",
       "AAPL   2015-12-10 00:00:00+00:00  26.903646  27.081969  26.750797  26.873539   \n",
       "       2015-12-11 00:00:00+00:00  26.211196  26.723006  26.135003  26.676689   \n",
       "       2015-12-14 00:00:00+00:00  26.049084  26.095401  25.426110  25.979607   \n",
       "       2015-12-15 00:00:00+00:00  25.588222  26.123192  25.555800  25.924026   \n",
       "       2015-12-16 00:00:00+00:00  25.785073  25.935605  25.196838  25.722544   \n",
       "\n",
       "                                  adjVolume  divCash  splitFactor  \n",
       "symbol date                                                        \n",
       "AAPL   2015-12-10 00:00:00+00:00  116850908      0.0          1.0  \n",
       "       2015-12-11 00:00:00+00:00  187544644      0.0          1.0  \n",
       "       2015-12-14 00:00:00+00:00  260014436      0.0          1.0  \n",
       "       2015-12-15 00:00:00+00:00  213292420      0.0          1.0  \n",
       "       2015-12-16 00:00:00+00:00  224953868      0.0          1.0  "
      ]
     },
     "execution_count": 23,
     "metadata": {},
     "output_type": "execute_result"
    }
   ],
   "source": [
    "data_frame.head()"
   ]
  },
  {
   "cell_type": "code",
   "execution_count": 24,
   "metadata": {},
   "outputs": [
    {
     "data": {
      "text/html": [
       "<div>\n",
       "<style scoped>\n",
       "    .dataframe tbody tr th:only-of-type {\n",
       "        vertical-align: middle;\n",
       "    }\n",
       "\n",
       "    .dataframe tbody tr th {\n",
       "        vertical-align: top;\n",
       "    }\n",
       "\n",
       "    .dataframe thead th {\n",
       "        text-align: right;\n",
       "    }\n",
       "</style>\n",
       "<table border=\"1\" class=\"dataframe\">\n",
       "  <thead>\n",
       "    <tr style=\"text-align: right;\">\n",
       "      <th></th>\n",
       "      <th></th>\n",
       "      <th>close</th>\n",
       "      <th>high</th>\n",
       "      <th>low</th>\n",
       "      <th>open</th>\n",
       "      <th>volume</th>\n",
       "      <th>adjClose</th>\n",
       "      <th>adjHigh</th>\n",
       "      <th>adjLow</th>\n",
       "      <th>adjOpen</th>\n",
       "      <th>adjVolume</th>\n",
       "      <th>divCash</th>\n",
       "      <th>splitFactor</th>\n",
       "    </tr>\n",
       "    <tr>\n",
       "      <th>symbol</th>\n",
       "      <th>date</th>\n",
       "      <th></th>\n",
       "      <th></th>\n",
       "      <th></th>\n",
       "      <th></th>\n",
       "      <th></th>\n",
       "      <th></th>\n",
       "      <th></th>\n",
       "      <th></th>\n",
       "      <th></th>\n",
       "      <th></th>\n",
       "      <th></th>\n",
       "      <th></th>\n",
       "    </tr>\n",
       "  </thead>\n",
       "  <tbody>\n",
       "    <tr>\n",
       "      <th rowspan=\"5\" valign=\"top\">AAPL</th>\n",
       "      <th>2020-11-30 00:00:00+00:00</th>\n",
       "      <td>119.05</td>\n",
       "      <td>120.9700</td>\n",
       "      <td>116.81</td>\n",
       "      <td>116.97</td>\n",
       "      <td>169410176</td>\n",
       "      <td>119.05</td>\n",
       "      <td>120.9700</td>\n",
       "      <td>116.81</td>\n",
       "      <td>116.97</td>\n",
       "      <td>169410176</td>\n",
       "      <td>0.0</td>\n",
       "      <td>1.0</td>\n",
       "    </tr>\n",
       "    <tr>\n",
       "      <th>2020-12-01 00:00:00+00:00</th>\n",
       "      <td>122.72</td>\n",
       "      <td>123.4693</td>\n",
       "      <td>120.01</td>\n",
       "      <td>121.01</td>\n",
       "      <td>125920963</td>\n",
       "      <td>122.72</td>\n",
       "      <td>123.4693</td>\n",
       "      <td>120.01</td>\n",
       "      <td>121.01</td>\n",
       "      <td>125920963</td>\n",
       "      <td>0.0</td>\n",
       "      <td>1.0</td>\n",
       "    </tr>\n",
       "    <tr>\n",
       "      <th>2020-12-02 00:00:00+00:00</th>\n",
       "      <td>123.08</td>\n",
       "      <td>123.3700</td>\n",
       "      <td>120.89</td>\n",
       "      <td>122.02</td>\n",
       "      <td>89004195</td>\n",
       "      <td>123.08</td>\n",
       "      <td>123.3700</td>\n",
       "      <td>120.89</td>\n",
       "      <td>122.02</td>\n",
       "      <td>89004195</td>\n",
       "      <td>0.0</td>\n",
       "      <td>1.0</td>\n",
       "    </tr>\n",
       "    <tr>\n",
       "      <th>2020-12-03 00:00:00+00:00</th>\n",
       "      <td>122.94</td>\n",
       "      <td>123.7800</td>\n",
       "      <td>122.21</td>\n",
       "      <td>123.52</td>\n",
       "      <td>78967630</td>\n",
       "      <td>122.94</td>\n",
       "      <td>123.7800</td>\n",
       "      <td>122.21</td>\n",
       "      <td>123.52</td>\n",
       "      <td>78967630</td>\n",
       "      <td>0.0</td>\n",
       "      <td>1.0</td>\n",
       "    </tr>\n",
       "    <tr>\n",
       "      <th>2020-12-04 00:00:00+00:00</th>\n",
       "      <td>122.25</td>\n",
       "      <td>122.8608</td>\n",
       "      <td>121.52</td>\n",
       "      <td>122.60</td>\n",
       "      <td>78260421</td>\n",
       "      <td>122.25</td>\n",
       "      <td>122.8608</td>\n",
       "      <td>121.52</td>\n",
       "      <td>122.60</td>\n",
       "      <td>78260421</td>\n",
       "      <td>0.0</td>\n",
       "      <td>1.0</td>\n",
       "    </tr>\n",
       "  </tbody>\n",
       "</table>\n",
       "</div>"
      ],
      "text/plain": [
       "                                   close      high     low    open     volume  \\\n",
       "symbol date                                                                     \n",
       "AAPL   2020-11-30 00:00:00+00:00  119.05  120.9700  116.81  116.97  169410176   \n",
       "       2020-12-01 00:00:00+00:00  122.72  123.4693  120.01  121.01  125920963   \n",
       "       2020-12-02 00:00:00+00:00  123.08  123.3700  120.89  122.02   89004195   \n",
       "       2020-12-03 00:00:00+00:00  122.94  123.7800  122.21  123.52   78967630   \n",
       "       2020-12-04 00:00:00+00:00  122.25  122.8608  121.52  122.60   78260421   \n",
       "\n",
       "                                  adjClose   adjHigh  adjLow  adjOpen  \\\n",
       "symbol date                                                             \n",
       "AAPL   2020-11-30 00:00:00+00:00    119.05  120.9700  116.81   116.97   \n",
       "       2020-12-01 00:00:00+00:00    122.72  123.4693  120.01   121.01   \n",
       "       2020-12-02 00:00:00+00:00    123.08  123.3700  120.89   122.02   \n",
       "       2020-12-03 00:00:00+00:00    122.94  123.7800  122.21   123.52   \n",
       "       2020-12-04 00:00:00+00:00    122.25  122.8608  121.52   122.60   \n",
       "\n",
       "                                  adjVolume  divCash  splitFactor  \n",
       "symbol date                                                        \n",
       "AAPL   2020-11-30 00:00:00+00:00  169410176      0.0          1.0  \n",
       "       2020-12-01 00:00:00+00:00  125920963      0.0          1.0  \n",
       "       2020-12-02 00:00:00+00:00   89004195      0.0          1.0  \n",
       "       2020-12-03 00:00:00+00:00   78967630      0.0          1.0  \n",
       "       2020-12-04 00:00:00+00:00   78260421      0.0          1.0  "
      ]
     },
     "execution_count": 24,
     "metadata": {},
     "output_type": "execute_result"
    }
   ],
   "source": [
    "data_frame.tail()"
   ]
  },
  {
   "cell_type": "code",
   "execution_count": 25,
   "metadata": {},
   "outputs": [],
   "source": [
    "df1=data_frame.reset_index()[\"close\"]"
   ]
  },
  {
   "cell_type": "code",
   "execution_count": 26,
   "metadata": {},
   "outputs": [
    {
     "data": {
      "text/plain": [
       "(1256,)"
      ]
     },
     "execution_count": 26,
     "metadata": {},
     "output_type": "execute_result"
    }
   ],
   "source": [
    "df1.shape"
   ]
  },
  {
   "cell_type": "code",
   "execution_count": 27,
   "metadata": {},
   "outputs": [
    {
     "data": {
      "text/plain": [
       "[<matplotlib.lines.Line2D at 0xc7f9148>]"
      ]
     },
     "execution_count": 27,
     "metadata": {},
     "output_type": "execute_result"
    },
    {
     "data": {
      "image/png": "[encoded data removed]",
      "text/plain": [
       "<Figure size 432x288 with 1 Axes>"
      ]
     },
     "metadata": {
      "needs_background": "light"
     },
     "output_type": "display_data"
    }
   ],
   "source": [
    "import matplotlib.pyplot as plt\n",
    "plt.plot(df1)"
   ]
  },
  {
   "cell_type": "code",
   "execution_count": 32,
   "metadata": {},
   "outputs": [],
   "source": [
    "#Applying the MinMax Scaler\n",
    "import numpy as np\n",
    "import pandas as pd\n",
    "from sklearn.preprocessing import MinMaxScaler\n",
    "scaler=MinMaxScaler(feature_range=(0,1))\n",
    "df1=scaler.fit_transform(np.array(df1).reshape(-1,1))"
   ]
  },
  {
   "cell_type": "code",
   "execution_count": 33,
   "metadata": {},
   "outputs": [
    {
     "data": {
      "text/plain": [
       "(1256, 1)"
      ]
     },
     "execution_count": 33,
     "metadata": {},
     "output_type": "execute_result"
    }
   ],
   "source": [
    "df1.shape"
   ]
  },
  {
   "cell_type": "code",
   "execution_count": 34,
   "metadata": {},
   "outputs": [],
   "source": [
    "#Categorizing Data into Train data and Test data\n",
    "\n",
    "training_data=int(len(df1)*0.70) # using 70% os data to train and remaining 30 % to test"
   ]
  },
  {
   "cell_type": "code",
   "execution_count": 47,
   "metadata": {},
   "outputs": [],
   "source": [
    "testing_data=int(len(df1)*0.3)"
   ]
  },
  {
   "cell_type": "code",
   "execution_count": 58,
   "metadata": {},
   "outputs": [],
   "source": [
    "train_data,test_data=df1[0:training_data,:],df1[training_data:len(df1),:1]"
   ]
  },
  {
   "cell_type": "code",
   "execution_count": 62,
   "metadata": {},
   "outputs": [
    {
     "data": {
      "text/plain": [
       "(879, 376)"
      ]
     },
     "execution_count": 62,
     "metadata": {},
     "output_type": "execute_result"
    }
   ],
   "source": [
    "training_data,testing_data"
   ]
  },
  {
   "cell_type": "code",
   "execution_count": 63,
   "metadata": {},
   "outputs": [
    {
     "data": {
      "text/plain": [
       "377"
      ]
     },
     "execution_count": 63,
     "metadata": {},
     "output_type": "execute_result"
    }
   ],
   "source": [
    "len(test_data)"
   ]
  },
  {
   "cell_type": "code",
   "execution_count": 67,
   "metadata": {},
   "outputs": [],
   "source": [
    "#Train the data\n",
    "import numpy as np\n",
    "def create_dataset (dataset, time_steps=1):\n",
    "    dataX, dataY = [] , []\n",
    "    for i in range(len(dataset)-time_steps-1):\n",
    "        a= dataset[i:(i+ time_step) , 0]\n",
    "        dataX.append(a)\n",
    "        dataY.append(dataset[i+ time_step, 0])\n",
    "    return np.array(dataX),np.array(dataY)\n"
   ]
  },
  {
   "cell_type": "code",
   "execution_count": 68,
   "metadata": {},
   "outputs": [],
   "source": [
    "time_steps=100\n",
    "X_Train, Y_Train = create_dataset (train_data, time_steps)\n",
    "X_Test, Y_Test = create_dataset (test_data, time_steps)"
   ]
  },
  {
   "cell_type": "code",
   "execution_count": 70,
   "metadata": {},
   "outputs": [
    {
     "name": "stdout",
     "output_type": "stream",
     "text": [
      "[[0.06212868 0.05493686 0.05325316 ... 0.00793746 0.01164161 0.00926037]\n",
      " [0.05493686 0.05325316 0.04846663 ... 0.01164161 0.00926037 0.00697535]\n",
      " [0.05325316 0.04846663 0.05051112 ... 0.00926037 0.00697535 0.00572459]\n",
      " ...\n",
      " [0.15263981 0.14900782 0.1434997  ... 0.20380036 0.19954299 0.21479254]\n",
      " [0.14900782 0.1434997  0.15088394 ... 0.19954299 0.21479254 0.22176789]\n",
      " [0.1434997  0.15088394 0.15538184 ... 0.21479254 0.22176789 0.22821407]]\n"
     ]
    }
   ],
   "source": [
    "print(X_Train)"
   ]
  },
  {
   "cell_type": "code",
   "execution_count": 72,
   "metadata": {},
   "outputs": [],
   "source": [
    "#Reshaping the train data into 3dimensional to apply LSTM\n",
    "#making data into [samples, time steps, features]\n",
    "X_Train= X_Train.reshape(X_Train.shape[0],X_Train.shape[1], 1)\n",
    "X_Test= X_Test.reshape(X_Test.shape[0],X_Test.shape[1], 1)"
   ]
  },
  {
   "cell_type": "code",
   "execution_count": null,
   "metadata": {},
   "outputs": [],
   "source": [
    "#The LSTM Model\n",
    "from tensorflow.keras.models import Sequential \n",
    "from tensorflow.keras.layers import Dense\n",
    "from tensorflow.keras.layers import LSTM\n",
    "#Stacking LSTM Model\n",
    "model= Sequential()\n",
    "model.add(LSTM(50, return_sequences=True,input_shape=(100,1)))\n",
    "model.add(LSTM(50,return_sequences=True))\n",
    "model.add(LSTM(50))\n",
    "model.add(Dense(1))\n",
    "\n",
    "model.compile(loss=\"mean_squared_error\",optimizer=\"adam\")\n",
    "\n",
    "\n",
    "model.summary()\n",
    "\n",
    "model.fit(X_Train, Y_Train , validation_data=(X_Test, Y_Test), epochs=100, batch_size=64, verbose=1)\n",
    "\n",
    "train_Prediction = model.predict(X_Train)\n",
    "test_Prediction= model.predict(X_Test)\n",
    "\n",
    "train_Predict=scaler.inverse_transform(train_Predict)\n",
    "tset_Predict=scaler.inverse_transform(test_Predict)\n",
    "\n"
   ]
  }
 ],
 "metadata": {
  "celltoolbar": "Raw Cell Format",
  "kernelspec": {
   "display_name": "Python 3",
   "language": "python",
   "name": "python3"
  },
  "language_info": {
   "codemirror_mode": {
    "name": "ipython",
    "version": 3
   },
   "file_extension": ".py",
   "mimetype": "text/x-python",
   "name": "python",
   "nbconvert_exporter": "python",
   "pygments_lexer": "ipython3",
   "version": "3.8.5"
  }
 },
 "nbformat": 4,
 "nbformat_minor": 4
}
